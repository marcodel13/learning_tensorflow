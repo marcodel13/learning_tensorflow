{
 "cells": [
  {
   "cell_type": "markdown",
   "metadata": {
    "nbpresent": {
     "id": "99bdaa1d-652b-435a-a202-b4b2f9d4960c"
    }
   },
   "source": [
    "# Tensorflow Basics\n",
    "\n",
    "This notebook gives an overview of the most basic tensorflow concepts."
   ]
  },
  {
   "cell_type": "code",
   "execution_count": 2,
   "metadata": {
    "collapsed": false,
    "nbpresent": {
     "id": "a47dda4e-b23e-4f97-9066-f22808ded310"
    }
   },
   "outputs": [],
   "source": [
    "import tensorflow as tf"
   ]
  },
  {
   "cell_type": "markdown",
   "metadata": {
    "nbpresent": {
     "id": "9fb7b066-c287-41ad-acfd-d8fa9d89ebd0"
    }
   },
   "source": [
    "## Computation graph\n",
    "\n",
    "All processing is done in a graph object that defines the computation."
   ]
  },
  {
   "cell_type": "code",
   "execution_count": 3,
   "metadata": {
    "collapsed": false,
    "nbpresent": {
     "id": "4946cf0e-a74b-4208-adf1-11262dd423c8"
    }
   },
   "outputs": [],
   "source": [
    "# Create a Constant op that produces a 1x2 matrix.  The op is\n",
    "# added as a node to the default graph.\n",
    "#\n",
    "# The value returned by the constructor represents the output\n",
    "# of the Constant op.\n",
    "matrix1 = tf.constant([[3., 3.]])\n",
    "\n",
    "# Create another Constant that produces a 2x1 matrix.\n",
    "matrix2 = tf.constant([[2.],[2.]])\n",
    "\n",
    "# Create a Matmul op that takes 'matrix1' and 'matrix2' as inputs.\n",
    "# The returned value, 'product', represents the result of the matrix\n",
    "# multiplication.\n",
    "product = tf.matmul(matrix1, matrix2)"
   ]
  },
  {
   "cell_type": "markdown",
   "metadata": {
    "collapsed": false,
    "nbpresent": {
     "id": "1b84baee-5f77-4426-aba9-73f96b815ab9"
    }
   },
   "source": [
    "If you do not specify a graph, the default graph is used.\n",
    "\n",
    "To launch your graph you need a `Session` object."
   ]
  },
  {
   "cell_type": "code",
   "execution_count": 4,
   "metadata": {
    "collapsed": false,
    "nbpresent": {
     "id": "4d1b788c-2775-4aa4-aed9-208db9340d54"
    }
   },
   "outputs": [
    {
     "name": "stdout",
     "output_type": "stream",
     "text": [
      "[array([[ 12.]], dtype=float32)]\n"
     ]
    }
   ],
   "source": [
    "with tf.Session() as sess:\n",
    "  result = sess.run([product])\n",
    "  print(result)"
   ]
  },
  {
   "cell_type": "markdown",
   "metadata": {
    "nbpresent": {
     "id": "bc6377de-313d-4f7b-8a13-4b02eab9a2c9"
    }
   },
   "source": [
    "You can tell the session which device to use for doing a computation."
   ]
  },
  {
   "cell_type": "code",
   "execution_count": 4,
   "metadata": {
    "collapsed": false,
    "nbpresent": {
     "id": "5cd9ff5f-701a-444d-8dec-ad6431e9f4fd"
    }
   },
   "outputs": [
    {
     "name": "stdout",
     "output_type": "stream",
     "text": [
      "[[ 12.]]\n"
     ]
    }
   ],
   "source": [
    "with tf.Session() as sess:\n",
    "  with tf.device(\"/cpu:0\"):\n",
    "    matrix1 = tf.constant([[3., 3.]])\n",
    "    matrix2 = tf.constant([[2.],[2.]])\n",
    "    product = tf.matmul(matrix1, matrix2)\n",
    "    \n",
    "    result = sess.run(product)\n",
    "    print(result)"
   ]
  },
  {
   "cell_type": "markdown",
   "metadata": {
    "nbpresent": {
     "id": "5e784b5b-6cb8-4298-85a6-cbb7c35b41fe"
    }
   },
   "source": [
    "The supported devices are:\n",
    "\n",
    "- \"/cpu:0\": The CPU of your machine.\n",
    "- \"/gpu:0\": The GPU of your machine, if you have one.\n",
    "- \"/gpu:1\": The second GPU of your machine, etc."
   ]
  },
  {
   "cell_type": "markdown",
   "metadata": {
    "nbpresent": {
     "id": "f50f2e98-9c40-4e5f-b615-cfee5aaad07e"
    }
   },
   "source": [
    "## Tensors\n",
    "\n",
    "All data is represented as tensors. Tensors are NumPy `ndarray`s in the Python implementation."
   ]
  },
  {
   "cell_type": "markdown",
   "metadata": {
    "collapsed": true,
    "nbpresent": {
     "id": "44520c28-e50b-4fb5-9c17-380afeb0e19e"
    }
   },
   "source": [
    "## Variables\n",
    "\n",
    "Variables keep state accross multiple executions. In the following example, `update` is excuted multiple times, changing the variable `state`."
   ]
  },
  {
   "cell_type": "code",
   "execution_count": 7,
   "metadata": {
    "collapsed": false,
    "nbpresent": {
     "id": "214dee46-12e6-43b5-b580-1deed1a09b6e"
    }
   },
   "outputs": [
    {
     "name": "stdout",
     "output_type": "stream",
     "text": [
      "0\n",
      "1\n",
      "2\n",
      "3\n"
     ]
    }
   ],
   "source": [
    "# Create a Variable, that will be initialized to the scalar value 0.\n",
    "state = tf.Variable(0, name=\"counter\")\n",
    "\n",
    "# Create an Op to add one to `state`.\n",
    "one = tf.constant(1)\n",
    "new_value = tf.add(state, one)\n",
    "update = tf.assign(state, new_value)\n",
    "\n",
    "# Variables must be initialized by running an `init` Op after having\n",
    "# launched the graph.  We first have to add the `init` Op to the graph.\n",
    "init_op = tf.initialize_all_variables()\n",
    "\n",
    "# Launch the graph and run the ops.\n",
    "with tf.Session() as sess:\n",
    "  # Run the 'init' op\n",
    "  sess.run(init_op)\n",
    "  # Print the initial value of 'state'\n",
    "  print(sess.run(state))\n",
    "  # Run the op that updates 'state' and print 'state'.\n",
    "  for _ in range(3):\n",
    "    sess.run(update)\n",
    "    print(sess.run(state))"
   ]
  },
  {
   "cell_type": "markdown",
   "metadata": {
    "nbpresent": {
     "id": "af1054ea-6944-4b49-a5b0-e41941979e4a"
    }
   },
   "source": [
    "## Placeholders\n",
    "\n",
    "A placeholder is simply a variable that we will assign data to at a later date. It allows us to create our operations and build our computation graph, without needing the data. "
   ]
  },
  {
   "cell_type": "code",
   "execution_count": 13,
   "metadata": {
    "collapsed": false,
    "nbpresent": {
     "id": "2d2414dc-dc95-4f3a-9bef-356b25bd2089"
    }
   },
   "outputs": [
    {
     "name": "stdout",
     "output_type": "stream",
     "text": [
      "2\n"
     ]
    }
   ],
   "source": [
    "x = tf.placeholder(\"int32\")\n",
    "y = x * 2\n",
    "\n",
    "with tf.Session() as session:\n",
    "    result = session.run(y, feed_dict={x: 1})\n",
    "    print(result)"
   ]
  },
  {
   "cell_type": "markdown",
   "metadata": {
    "nbpresent": {
     "id": "6ad31ac9-eaf0-4f8c-8f09-1e3b9730c1b1"
    }
   },
   "source": [
    "## Getting data out of TF\n",
    "\n",
    "`Session.run()` returns the results of the defined operations."
   ]
  },
  {
   "cell_type": "code",
   "execution_count": 6,
   "metadata": {
    "collapsed": false,
    "nbpresent": {
     "id": "dc6d05fc-bd34-4db3-bd94-f440875b394a"
    }
   },
   "outputs": [
    {
     "name": "stdout",
     "output_type": "stream",
     "text": [
      "[array([ 21.], dtype=float32), array([ 7.], dtype=float32)]\n"
     ]
    }
   ],
   "source": [
    "input1 = tf.constant([3.0])\n",
    "input2 = tf.constant([2.0])\n",
    "input3 = tf.constant([5.0])\n",
    "intermed = tf.add(input2, input3)\n",
    "mul = tf.mul(input1, intermed)\n",
    "\n",
    "with tf.Session() as sess:\n",
    "  result = sess.run([mul, intermed])\n",
    "  print(result)"
   ]
  }
 ],
 "metadata": {
  "anaconda-cloud": {},
  "kernelspec": {
   "display_name": "Python [Root]",
   "language": "python",
   "name": "Python [Root]"
  },
  "language_info": {
   "codemirror_mode": {
    "name": "ipython",
    "version": 2.0
   },
   "file_extension": ".py",
   "mimetype": "text/x-python",
   "name": "python",
   "nbconvert_exporter": "python",
   "pygments_lexer": "ipython2",
   "version": "2.7.12"
  },
  "nbpresent": {
   "slides": {
    "00b1ea8b-0202-479a-ab7a-39313702fe99": {
     "id": "00b1ea8b-0202-479a-ab7a-39313702fe99",
     "prev": "885bcf44-5f6b-4645-ad6d-7ce526f0a3d9",
     "regions": {
      "49a0a7e2-02e8-4c28-a910-fbbf2c202dd4": {
       "attrs": {
        "height": 0.8,
        "width": 0.8,
        "x": 0.1,
        "y": 0.1
       },
       "content": {
        "cell": "a47dda4e-b23e-4f97-9066-f22808ded310",
        "part": "whole"
       },
       "id": "49a0a7e2-02e8-4c28-a910-fbbf2c202dd4"
      }
     }
    },
    "296349cb-d40b-47c5-a842-200b8c972d15": {
     "id": "296349cb-d40b-47c5-a842-200b8c972d15",
     "prev": "4c09cdc2-390e-470c-92cd-4e5a99c1bbb7",
     "regions": {
      "d9c2736f-4101-4a7b-b2d6-15a7cd9e2508": {
       "attrs": {
        "height": 0.8,
        "width": 0.8,
        "x": 0.1,
        "y": 0.1
       },
       "content": {
        "cell": "2d2414dc-dc95-4f3a-9bef-356b25bd2089",
        "part": "whole"
       },
       "id": "d9c2736f-4101-4a7b-b2d6-15a7cd9e2508"
      }
     }
    },
    "392e0e6b-d741-460e-9764-5452a02876c3": {
     "id": "392e0e6b-d741-460e-9764-5452a02876c3",
     "prev": "4dabd807-f688-4805-a9ff-84a853726d69",
     "regions": {
      "8692be9c-6ccb-42df-9ad0-36842a1f235f": {
       "attrs": {
        "height": 0.8,
        "width": 0.8,
        "x": 0.1,
        "y": 0.1
       },
       "content": {
        "cell": "f50f2e98-9c40-4e5f-b615-cfee5aaad07e",
        "part": "whole"
       },
       "id": "8692be9c-6ccb-42df-9ad0-36842a1f235f"
      }
     }
    },
    "4c09cdc2-390e-470c-92cd-4e5a99c1bbb7": {
     "id": "4c09cdc2-390e-470c-92cd-4e5a99c1bbb7",
     "prev": "cf7814a2-4fb6-4b1d-b2e6-cc11a1723b38",
     "regions": {
      "49fc60c9-29d8-430f-abde-f627546160bc": {
       "attrs": {
        "height": 0.8,
        "width": 0.8,
        "x": 0.1,
        "y": 0.1
       },
       "content": {
        "cell": "af1054ea-6944-4b49-a5b0-e41941979e4a",
        "part": "whole"
       },
       "id": "49fc60c9-29d8-430f-abde-f627546160bc"
      }
     }
    },
    "4dabd807-f688-4805-a9ff-84a853726d69": {
     "id": "4dabd807-f688-4805-a9ff-84a853726d69",
     "prev": "bc49ed25-7bd5-4a91-ad28-bbc33b235b81",
     "regions": {
      "4d7a0ee1-7f44-4190-94b9-dc05f12426b5": {
       "attrs": {
        "height": 0.8,
        "width": 0.8,
        "x": 0.1,
        "y": 0.1
       },
       "content": {
        "cell": "5e784b5b-6cb8-4298-85a6-cbb7c35b41fe",
        "part": "whole"
       },
       "id": "4d7a0ee1-7f44-4190-94b9-dc05f12426b5"
      }
     }
    },
    "885bcf44-5f6b-4645-ad6d-7ce526f0a3d9": {
     "id": "885bcf44-5f6b-4645-ad6d-7ce526f0a3d9",
     "prev": null,
     "regions": {
      "b90f955d-29fd-4c61-8cc6-ab9ad7d90b08": {
       "attrs": {
        "height": 0.8,
        "width": 0.8,
        "x": 0.1,
        "y": 0.1
       },
       "content": {
        "cell": "99bdaa1d-652b-435a-a202-b4b2f9d4960c",
        "part": "whole"
       },
       "id": "b90f955d-29fd-4c61-8cc6-ab9ad7d90b08"
      }
     }
    },
    "96a9c081-390b-4d3d-a5a8-87a03e0bbc5a": {
     "id": "96a9c081-390b-4d3d-a5a8-87a03e0bbc5a",
     "prev": "00b1ea8b-0202-479a-ab7a-39313702fe99",
     "regions": {
      "f12e8226-8f14-48b6-afd7-195fe25600d1": {
       "attrs": {
        "height": 0.8,
        "width": 0.8,
        "x": 0.1,
        "y": 0.1
       },
       "content": {
        "cell": "9fb7b066-c287-41ad-acfd-d8fa9d89ebd0",
        "part": "whole"
       },
       "id": "f12e8226-8f14-48b6-afd7-195fe25600d1"
      }
     }
    },
    "bc49ed25-7bd5-4a91-ad28-bbc33b235b81": {
     "id": "bc49ed25-7bd5-4a91-ad28-bbc33b235b81",
     "prev": "c0ccfa95-a00e-415f-a87c-a3f1fa97267f",
     "regions": {
      "c315d243-3a89-4769-8542-5fd339f15e05": {
       "attrs": {
        "height": 0.8,
        "width": 0.8,
        "x": 0.1,
        "y": 0.1
       },
       "content": {
        "cell": "5cd9ff5f-701a-444d-8dec-ad6431e9f4fd",
        "part": "whole"
       },
       "id": "c315d243-3a89-4769-8542-5fd339f15e05"
      }
     }
    },
    "c0ccfa95-a00e-415f-a87c-a3f1fa97267f": {
     "id": "c0ccfa95-a00e-415f-a87c-a3f1fa97267f",
     "prev": "f0276908-cfd0-4589-988e-42126cc7a10c",
     "regions": {
      "03091586-87d3-43b5-8dd3-62c0980a7c83": {
       "attrs": {
        "height": 0.8,
        "width": 0.8,
        "x": 0.1,
        "y": 0.1
       },
       "content": {
        "cell": "bc6377de-313d-4f7b-8a13-4b02eab9a2c9",
        "part": "whole"
       },
       "id": "03091586-87d3-43b5-8dd3-62c0980a7c83"
      }
     }
    },
    "c8769916-2e0d-4d8b-8313-92968344dcd0": {
     "id": "c8769916-2e0d-4d8b-8313-92968344dcd0",
     "prev": "96a9c081-390b-4d3d-a5a8-87a03e0bbc5a",
     "regions": {
      "36e50949-a607-4c7f-a96c-1284eb1fbf17": {
       "attrs": {
        "height": 0.8,
        "width": 0.8,
        "x": 0.1,
        "y": 0.1
       },
       "content": {
        "cell": "4946cf0e-a74b-4208-adf1-11262dd423c8",
        "part": "whole"
       },
       "id": "36e50949-a607-4c7f-a96c-1284eb1fbf17"
      }
     }
    },
    "cf7814a2-4fb6-4b1d-b2e6-cc11a1723b38": {
     "id": "cf7814a2-4fb6-4b1d-b2e6-cc11a1723b38",
     "prev": "d0ad5486-071d-41c5-a52a-111657973160",
     "regions": {
      "c1794b46-cbdb-44c4-889f-4e687bc3a143": {
       "attrs": {
        "height": 0.8,
        "width": 0.8,
        "x": 0.1,
        "y": 0.1
       },
       "content": {
        "cell": "214dee46-12e6-43b5-b580-1deed1a09b6e",
        "part": "whole"
       },
       "id": "c1794b46-cbdb-44c4-889f-4e687bc3a143"
      }
     }
    },
    "d0ad5486-071d-41c5-a52a-111657973160": {
     "id": "d0ad5486-071d-41c5-a52a-111657973160",
     "prev": "392e0e6b-d741-460e-9764-5452a02876c3",
     "regions": {
      "e59c8671-ef55-4c5b-9fbe-c3583c99a07d": {
       "attrs": {
        "height": 0.8,
        "width": 0.8,
        "x": 0.1,
        "y": 0.1
       },
       "content": {
        "cell": "44520c28-e50b-4fb5-9c17-380afeb0e19e",
        "part": "whole"
       },
       "id": "e59c8671-ef55-4c5b-9fbe-c3583c99a07d"
      }
     }
    },
    "db4948bc-edb9-4460-a08a-784c6f66c1d7": {
     "id": "db4948bc-edb9-4460-a08a-784c6f66c1d7",
     "prev": "debebeda-a1e0-441a-8011-fecd1153d22e",
     "regions": {
      "24ee19cc-0fb7-41ce-b07a-29fad95b2df3": {
       "attrs": {
        "height": 0.8,
        "width": 0.8,
        "x": 0.1,
        "y": 0.1
       },
       "content": {
        "cell": "dc6d05fc-bd34-4db3-bd94-f440875b394a",
        "part": "whole"
       },
       "id": "24ee19cc-0fb7-41ce-b07a-29fad95b2df3"
      }
     }
    },
    "debebeda-a1e0-441a-8011-fecd1153d22e": {
     "id": "debebeda-a1e0-441a-8011-fecd1153d22e",
     "prev": "296349cb-d40b-47c5-a842-200b8c972d15",
     "regions": {
      "d66be9a1-d85e-4b01-8267-4ff0deb1308b": {
       "attrs": {
        "height": 0.8,
        "width": 0.8,
        "x": 0.1,
        "y": 0.1
       },
       "content": {
        "cell": "6ad31ac9-eaf0-4f8c-8f09-1e3b9730c1b1",
        "part": "whole"
       },
       "id": "d66be9a1-d85e-4b01-8267-4ff0deb1308b"
      }
     }
    },
    "f0276908-cfd0-4589-988e-42126cc7a10c": {
     "id": "f0276908-cfd0-4589-988e-42126cc7a10c",
     "prev": "fff22c81-9f40-4e69-80b8-cc440d8babd5",
     "regions": {
      "3cb0fa78-62aa-4e45-99b3-3a89e7419b29": {
       "attrs": {
        "height": 0.8,
        "width": 0.8,
        "x": 0.1,
        "y": 0.1
       },
       "content": {
        "cell": "4d1b788c-2775-4aa4-aed9-208db9340d54",
        "part": "whole"
       },
       "id": "3cb0fa78-62aa-4e45-99b3-3a89e7419b29"
      }
     }
    },
    "fff22c81-9f40-4e69-80b8-cc440d8babd5": {
     "id": "fff22c81-9f40-4e69-80b8-cc440d8babd5",
     "prev": "c8769916-2e0d-4d8b-8313-92968344dcd0",
     "regions": {
      "1c10d689-b407-4757-9d64-dca96ff0d2cd": {
       "attrs": {
        "height": 0.8,
        "width": 0.8,
        "x": 0.1,
        "y": 0.1
       },
       "content": {
        "cell": "1b84baee-5f77-4426-aba9-73f96b815ab9",
        "part": "whole"
       },
       "id": "1c10d689-b407-4757-9d64-dca96ff0d2cd"
      }
     }
    }
   },
   "themes": {}
  }
 },
 "nbformat": 4,
 "nbformat_minor": 0
}